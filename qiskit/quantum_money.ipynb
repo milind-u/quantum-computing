{
 "cells": [
  {
   "cell_type": "code",
   "execution_count": null,
   "source": [],
   "outputs": [],
   "metadata": {}
  },
  {
   "cell_type": "code",
   "execution_count": null,
   "source": [
    "import math\r\n",
    "from random import randint\r\n",
    "\r\n",
    "import glog\r\n",
    "import numpy as np\r\n",
    "import qiskit"
   ],
   "outputs": [],
   "metadata": {
    "id": "b7RfVP8BAoi8"
   }
  },
  {
   "cell_type": "code",
   "execution_count": null,
   "source": [
    "class Qnote:\r\n",
    "  def __init__(self, serial_no, qubits):\r\n",
    "    self.serial_no = serial_no\r\n",
    "    self.qubits = qubits\r\n",
    "\r\n",
    "  def __str__(self):\r\n",
    "    return \"serial_no: %u,\\nqubits: %s\" % (self.serial_no, self.qubits)"
   ],
   "outputs": [],
   "metadata": {
    "id": "5SW-paocT9I9"
   }
  },
  {
   "cell_type": "code",
   "execution_count": null,
   "source": [
    "note = Qnote(14520538, qiskit.QuantumCircuit(10))\r\n",
    "glog.info(\"%u, %u\" % (note.serial_no, note.qubits.num_qubits))\r\n",
    "glog.info(note)"
   ],
   "outputs": [
    {
     "output_type": "stream",
     "name": "stderr",
     "text": [
      "I0707 11:49:18.010632 6052 <ipython-input-16-f8e7ba3d435a>:2] 14520538, 10\n",
      "I0707 11:49:18.011630 6052 <ipython-input-16-f8e7ba3d435a>:3] serial_no: 14520538,\n",
      "qubits:      \n",
      "q_0: \n",
      "     \n",
      "q_1: \n",
      "     \n",
      "q_2: \n",
      "     \n",
      "q_3: \n",
      "     \n",
      "q_4: \n",
      "     \n",
      "q_5: \n",
      "     \n",
      "q_6: \n",
      "     \n",
      "q_7: \n",
      "     \n",
      "q_8: \n",
      "     \n",
      "q_9: \n",
      "     \n"
     ]
    }
   ],
   "metadata": {
    "colab": {
     "base_uri": "https://localhost:8080/"
    },
    "executionInfo": {
     "elapsed": 37358,
     "status": "ok",
     "timestamp": 1616031424215,
     "user": {
      "displayName": "Milind Upadhyay",
      "photoUrl": "https://lh3.googleusercontent.com/a-/AOh14Gg_4kgPfMKJsr__AviFVKiNqehx6TjvD-IDdZgtU1A=s64",
      "userId": "14260874507387277061"
     },
     "user_tz": 420
    },
    "id": "og5xw22dUQS2",
    "outputId": "e8ecd6c1-ef6f-4cef-bd9a-14744c2434b5"
   }
  },
  {
   "cell_type": "code",
   "execution_count": null,
   "source": [
    "def rand_bool():\r\n",
    "  return bool(randint(0, 1))"
   ],
   "outputs": [],
   "metadata": {
    "id": "vMnoTtPQNeap"
   }
  },
  {
   "cell_type": "code",
   "execution_count": null,
   "source": [
    "class Bank:\r\n",
    "\r\n",
    "  __MIN_LEN = 10\r\n",
    "  __MAX_LEN = 15\r\n",
    "\r\n",
    "  def __init__(self):\r\n",
    "    self.__note_ledger = {}\r\n",
    "\r\n",
    "  def create_qnote(self):\r\n",
    "    len = randint(Bank.__MIN_LEN, Bank.__MAX_LEN)\r\n",
    "    bits = [rand_bool() for i in range(len)]\r\n",
    "    bases = [rand_bool() for i in range(len)]\r\n",
    "    serial_no = None\r\n",
    "    while serial_no == None or serial_no in self.__note_ledger:\r\n",
    "      serial_no = randint(10 ** Bank.__MIN_LEN, 10 ** Bank.__MAX_LEN)\r\n",
    "    self.__note_ledger[serial_no] = (bits, bases)\r\n",
    "    return Qnote(serial_no, self.__encode_qubits(bits, bases))\r\n",
    "\r\n",
    "  def __encode_qubits(self, bits, bases):\r\n",
    "    qc = None\r\n",
    "    if len(bits) == len(bases):\r\n",
    "      qc = qiskit.QuantumCircuit(len(bits), len(bits))\r\n",
    "      for i in range(len(bases)):\r\n",
    "        if bits[i]:\r\n",
    "          qc.x(i)\r\n",
    "        if bases[i]:\r\n",
    "          qc.h(i)\r\n",
    "    else:\r\n",
    "      glog.error(\"len of bits and bases must be equal\")\r\n",
    "    return qc\r\n",
    "\r\n",
    "  def verify_note(self, qnote):\r\n",
    "    valid = False\r\n",
    "    if qnote.serial_no in self.__note_ledger:\r\n",
    "      bits, bases = self.__note_ledger[qnote.serial_no]\r\n",
    "      measurement = [bool(int(c)) for c in self.__measure(qnote.qubits, bases)]\r\n",
    "      valid = (measurement == bits)\r\n",
    "      if not valid:\r\n",
    "        qnote.qubits = None # destroy counterfeit qubits\r\n",
    "    else:\r\n",
    "      glog.warn(\"Serial Number of given Qnote not found\")\r\n",
    "    return valid\r\n",
    "\r\n",
    "  def __measure(self, qc, bases):\r\n",
    "    measurement = None\r\n",
    "    if len(bases) == qc.num_qubits:\r\n",
    "      for i in range(qc.num_qubits):\r\n",
    "        if bases[i]:\r\n",
    "          qc.h(i)\r\n",
    "        qc.measure(i, qc.num_qubits - 1 - i)\r\n",
    "      backend = qiskit.Aer.get_backend(\"qasm_simulator\")\r\n",
    "      sim = qiskit.execute(qc, backend, shots = 1)\r\n",
    "      measurement = list(sim.result().get_counts())[0]\r\n",
    "    else:\r\n",
    "      glog.error(\"len of bases must equal to qc.num_qubits\")\r\n",
    "    return measurement\r\n"
   ],
   "outputs": [],
   "metadata": {
    "id": "Yzj9OdZTUy6G"
   }
  },
  {
   "cell_type": "code",
   "execution_count": null,
   "source": [
    "def create_counterfeit_qnote(legit_qnote):\r\n",
    "  num_qubits = legit_qnote.qubits.num_qubits\r\n",
    "  qc = qiskit.QuantumCircuit(num_qubits, num_qubits)\r\n",
    "  for i in range(num_qubits):\r\n",
    "    if rand_bool():\r\n",
    "      qc.x(i)\r\n",
    "    if rand_bool():\r\n",
    "      qc.h(i)\r\n",
    "  return Qnote(legit_qnote.serial_no, qc)\r\n",
    "  "
   ],
   "outputs": [],
   "metadata": {
    "id": "UvIqu728NMFV"
   }
  },
  {
   "cell_type": "code",
   "execution_count": null,
   "source": [
    "GREEN = 32\r\n",
    "RED = 31\r\n",
    "WHITE = 47"
   ],
   "outputs": [],
   "metadata": {
    "id": "fxnUPCFa_rku"
   }
  },
  {
   "cell_type": "code",
   "execution_count": null,
   "source": [
    "bank = Bank()\r\n",
    "legit = bank.create_qnote()\r\n",
    "qnotes = [legit, create_counterfeit_qnote(legit)]\r\n",
    "\r\n",
    "for i in range(len(qnotes)):\r\n",
    "  verified = bank.verify_note(qnotes[i])\r\n",
    "  correct = bool(i ^ verified)\r\n",
    "  glog.info(\"\\33[1;%u;%umValid: %r, Correct: %r\", GREEN if correct else RED, WHITE, verified, correct)"
   ],
   "outputs": [
    {
     "output_type": "stream",
     "name": "stderr",
     "text": [
      "I0707 11:49:18.183732 6052 runningpassmanager.py:204] Pass: UnrollCustomDefinitions - 0.00000 (ms)\n",
      "I0707 11:49:18.184730 6052 basis_translator.py:94] Begin BasisTranslator from source basis {('h', 1), ('x', 1), ('measure', 1)} to target basis {'cu1', 'tdg', 'mcx_gray', 'save_statevector_dict', 'ryy', 'roerror', 'r', 'cx', 'initialize', 'u2', 'cy', 'mcphase', 'u', 'set_stabilizer', 'delay', 't', 'reset', 'barrier', 'save_expval_var', 'csx', 'save_density_matrix', 'save_probabilities', 'ccx', 'mcu3', 'save_probabilities_dict', 'swap', 'save_stabilizer', 'mcrz', 'id', 'measure', 'diagonal', 'snapshot', 'mcu2', 'mcswap', 'mcrx', 'mcsx', 'set_density_matrix', 'save_expval', 'rx', 'mcu1', 's', 'set_statevector', 'rzz', 'mcy', 'rzx', 'h', 'cswap', 'y', 'mcz', 'unitary', 'cp', 'mcry', 'z', 'u3', 'p', 'ry', 'cz', 'save_state', 'u1', 'save_amplitudes_sq', 'rz', 'save_statevector', 'mcx', 'sdg', 'save_amplitudes', 'sx', 'cu2', 'mcr', 'cu3', 'kraus', 'multiplexer', 'rxx', 'x', 'pauli'}.\n",
      "I0707 11:49:18.184730 6052 basis_translator.py:103] Basis translation path search completed in 0.000s.\n",
      "I0707 11:49:18.185727 6052 basis_translator.py:118] Basis translation paths composed in 0.000s.\n",
      "I0707 11:49:18.185727 6052 basis_translator.py:174] Basis translation instructions replaced in 0.000s.\n",
      "I0707 11:49:18.186724 6052 runningpassmanager.py:204] Pass: BasisTranslator - 1.99485 (ms)\n",
      "I0707 11:49:18.186724 6052 runningpassmanager.py:204] Pass: RemoveResetInZeroState - 0.00000 (ms)\n",
      "I0707 11:49:18.187722 6052 runningpassmanager.py:204] Pass: Depth - 0.99778 (ms)\n",
      "I0707 11:49:18.187722 6052 runningpassmanager.py:204] Pass: FixedPoint - 0.00000 (ms)\n",
      "I0707 11:49:18.194703 6052 runningpassmanager.py:204] Pass: Optimize1qGatesDecomposition - 6.98042 (ms)\n",
      "I0707 11:49:18.194703 6052 runningpassmanager.py:204] Pass: CXCancellation - 0.00000 (ms)\n",
      "I0707 11:49:18.195700 6052 runningpassmanager.py:204] Pass: Depth - 0.00000 (ms)\n",
      "I0707 11:49:18.195700 6052 runningpassmanager.py:204] Pass: FixedPoint - 0.00000 (ms)\n",
      "I0707 11:49:18.196696 6052 runningpassmanager.py:204] Pass: Optimize1qGatesDecomposition - 0.00000 (ms)\n",
      "I0707 11:49:18.196696 6052 runningpassmanager.py:204] Pass: CXCancellation - 0.00000 (ms)\n",
      "I0707 11:49:18.196696 6052 runningpassmanager.py:204] Pass: Depth - 0.00000 (ms)\n",
      "I0707 11:49:18.197695 6052 runningpassmanager.py:204] Pass: FixedPoint - 0.00000 (ms)\n",
      "I0707 11:49:18.198693 6052 runningpassmanager.py:204] Pass: Optimize1qGatesDecomposition - 0.99802 (ms)\n",
      "I0707 11:49:18.198693 6052 runningpassmanager.py:204] Pass: CXCancellation - 0.00000 (ms)\n",
      "I0707 11:49:18.199690 6052 runningpassmanager.py:204] Pass: TimeUnitConversion - 0.99707 (ms)\n",
      "I0707 11:49:18.200687 6052 transpiler.py:287] Total Transpile Time - 17.95220 (ms)\n",
      "I0707 11:49:18.200687 6052 assembler.py:38] Total Assembly Time - 0.00000 (ms)\n",
      "I0707 11:49:18.201684 6052 execute_function.py:37] Total Job Submission Time - 0.99707 (ms)\n",
      "I0707 11:49:18.202682 6052 <ipython-input-21-54933c6f580f>:8] \u001b[1;32;47mValid: True, Correct: True\n",
      "I0707 11:49:18.204677 6052 runningpassmanager.py:204] Pass: UnrollCustomDefinitions - 0.00000 (ms)\n",
      "I0707 11:49:18.205673 6052 basis_translator.py:94] Begin BasisTranslator from source basis {('h', 1), ('x', 1), ('measure', 1)} to target basis {'cu1', 'tdg', 'mcx_gray', 'save_statevector_dict', 'ryy', 'roerror', 'r', 'cx', 'initialize', 'u2', 'cy', 'mcphase', 'u', 'set_stabilizer', 'delay', 't', 'reset', 'barrier', 'save_expval_var', 'csx', 'save_density_matrix', 'save_probabilities', 'ccx', 'mcu3', 'save_probabilities_dict', 'swap', 'save_stabilizer', 'mcrz', 'id', 'measure', 'diagonal', 'snapshot', 'mcu2', 'mcswap', 'mcrx', 'mcsx', 'set_density_matrix', 'save_expval', 'rx', 'mcu1', 's', 'set_statevector', 'rzz', 'mcy', 'rzx', 'h', 'cswap', 'y', 'mcz', 'unitary', 'cp', 'mcry', 'z', 'u3', 'p', 'ry', 'cz', 'save_state', 'u1', 'save_amplitudes_sq', 'rz', 'save_statevector', 'mcx', 'sdg', 'save_amplitudes', 'sx', 'cu2', 'mcr', 'cu3', 'kraus', 'multiplexer', 'rxx', 'x', 'pauli'}.\n",
      "I0707 11:49:18.205673 6052 basis_translator.py:103] Basis translation path search completed in 0.000s.\n",
      "I0707 11:49:18.206670 6052 basis_translator.py:118] Basis translation paths composed in 0.000s.\n",
      "I0707 11:49:18.206670 6052 basis_translator.py:174] Basis translation instructions replaced in 0.000s.\n",
      "I0707 11:49:18.206670 6052 runningpassmanager.py:204] Pass: BasisTranslator - 0.99707 (ms)\n",
      "I0707 11:49:18.207668 6052 runningpassmanager.py:204] Pass: RemoveResetInZeroState - 0.00000 (ms)\n",
      "I0707 11:49:18.207668 6052 runningpassmanager.py:204] Pass: Depth - 0.00000 (ms)\n",
      "I0707 11:49:18.207668 6052 runningpassmanager.py:204] Pass: FixedPoint - 0.00000 (ms)\n",
      "I0707 11:49:18.215646 6052 runningpassmanager.py:204] Pass: Optimize1qGatesDecomposition - 6.98018 (ms)\n",
      "I0707 11:49:18.216644 6052 runningpassmanager.py:204] Pass: CXCancellation - 0.99754 (ms)\n",
      "I0707 11:49:18.216644 6052 runningpassmanager.py:204] Pass: Depth - 0.00000 (ms)\n",
      "I0707 11:49:18.216644 6052 runningpassmanager.py:204] Pass: FixedPoint - 0.00000 (ms)\n",
      "I0707 11:49:18.217642 6052 runningpassmanager.py:204] Pass: Optimize1qGatesDecomposition - 0.99826 (ms)\n",
      "I0707 11:49:18.217642 6052 runningpassmanager.py:204] Pass: CXCancellation - 0.00000 (ms)\n",
      "I0707 11:49:18.217642 6052 runningpassmanager.py:204] Pass: Depth - 0.00000 (ms)\n",
      "I0707 11:49:18.218639 6052 runningpassmanager.py:204] Pass: FixedPoint - 0.00000 (ms)\n",
      "I0707 11:49:18.218639 6052 runningpassmanager.py:204] Pass: Optimize1qGatesDecomposition - 0.00000 (ms)\n",
      "I0707 11:49:18.219637 6052 runningpassmanager.py:204] Pass: CXCancellation - 0.00000 (ms)\n",
      "I0707 11:49:18.219637 6052 runningpassmanager.py:204] Pass: TimeUnitConversion - 0.00000 (ms)\n",
      "I0707 11:49:18.221632 6052 transpiler.py:287] Total Transpile Time - 17.95244 (ms)\n",
      "I0707 11:49:18.221632 6052 assembler.py:38] Total Assembly Time - 0.00000 (ms)\n",
      "I0707 11:49:18.222629 6052 execute_function.py:37] Total Job Submission Time - 0.99754 (ms)\n",
      "I0707 11:49:18.223625 6052 <ipython-input-21-54933c6f580f>:8] \u001b[1;32;47mValid: False, Correct: True\n"
     ]
    }
   ],
   "metadata": {
    "colab": {
     "base_uri": "https://localhost:8080/"
    },
    "executionInfo": {
     "elapsed": 578,
     "status": "ok",
     "timestamp": 1616031557923,
     "user": {
      "displayName": "Milind Upadhyay",
      "photoUrl": "https://lh3.googleusercontent.com/a-/AOh14Gg_4kgPfMKJsr__AviFVKiNqehx6TjvD-IDdZgtU1A=s64",
      "userId": "14260874507387277061"
     },
     "user_tz": 420
    },
    "id": "CNbId6pHVGBx",
    "outputId": "37137ce2-364c-4324-fcda-92bdff6667a6"
   }
  },
  {
   "cell_type": "markdown",
   "source": [
    "Because of the no cloning theorem and the probability diffence \n",
    "that has an almost 100% chance of occurring when someone is evesdropping on the transfer of a decent amount of qubits, the BB84 protocol is basically perfectly secured. Since it is being used for verifying money, it makes it very hard to forge quantum money.\n"
   ],
   "metadata": {
    "id": "ULpF9mfYAWi5"
   }
  },
  {
   "cell_type": "markdown",
   "source": [
    "A possible drawback of the Weisner protocol as money is that in order to transfer money, you have to transfer many qubit states. This is not something easily acheived, because you have to prevent the qubits from getting to much noise and decohering. Another drawback could be that the bank has to store the serial number, classical bits, and bases for every qnote."
   ],
   "metadata": {
    "id": "WJiMJeOMA5sg"
   }
  },
  {
   "cell_type": "markdown",
   "source": [
    "You could theoretically use trial and error to break the Weisner protocol. If you have the serial number of a valid qnote and the number of qubits, you could create that many qubits in a known state and create a random known bit string of bases, and then after the bank says that it is invalid they would have performed measurements in the correct bases. If you initialized a state to be |0> and it became |1> after measurement or the same with |1> or |+> and |->, you would know for sure that you had the wrong basis for that bit. You would find out its state by continously doing validation with the same base and measuring, and if you got all |0> or all |1> you would know the base is right, and otherwise it is wrong. You could eventually find the correct bases, and then use trial and error for all the possible 2^n bit strings that would be with those bases until the note is verified. The bank could easily prevent this attack by destroying invalid input qubits."
   ],
   "metadata": {
    "id": "OH7f2y3XBqeE"
   }
  },
  {
   "cell_type": "markdown",
   "source": [],
   "metadata": {
    "id": "fglVDD3HDCZ-"
   }
  },
  {
   "cell_type": "code",
   "execution_count": null,
   "source": [],
   "outputs": [],
   "metadata": {
    "id": "MJAHWU_qCep2"
   }
  }
 ],
 "metadata": {
  "colab": {
   "authorship_tag": "ABX9TyOEn4knflYXb+bpvNrwyRO3",
   "collapsed_sections": [],
   "name": "quantum_money.ipynb",
   "provenance": []
  },
  "interpreter": {
   "hash": "b966905bf745bdb820816fa738fcffe74d5f421495a96a7cca133c6347a3ea7e"
  },
  "kernelspec": {
   "name": "python3",
   "display_name": "Python 3.8.10 64-bit (windows store)"
  },
  "language_info": {
   "codemirror_mode": {
    "name": "ipython",
    "version": 3
   },
   "file_extension": ".py",
   "mimetype": "text/x-python",
   "name": "python",
   "nbconvert_exporter": "python",
   "pygments_lexer": "ipython3",
   "version": "3.8.10"
  }
 },
 "nbformat": 4,
 "nbformat_minor": 2
}